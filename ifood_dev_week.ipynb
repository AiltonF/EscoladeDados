{
  "nbformat": 4,
  "nbformat_minor": 0,
  "metadata": {
    "colab": {
      "provenance": [],
      "include_colab_link": true
    },
    "kernelspec": {
      "name": "python3",
      "display_name": "Python 3"
    },
    "language_info": {
      "name": "python"
    }
  },
  "cells": [
    {
      "cell_type": "markdown",
      "metadata": {
        "id": "view-in-github",
        "colab_type": "text"
      },
      "source": [
        "<a href=\"https://colab.research.google.com/github/AiltonF/EscoladeDados/blob/main/ifood_dev_week.ipynb\" target=\"_parent\"><img src=\"https://colab.research.google.com/assets/colab-badge.svg\" alt=\"Open In Colab\"/></a>"
      ]
    },
    {
      "cell_type": "markdown",
      "source": [
        "# iFood Dev Week\n",
        "\n",
        "Saiba mais sobre essa semana incrível no Artigo [Desvendando a iFood Dev Week](https://www.dio.me/articles/desvendando-a-ifood-dev-week)."
      ],
      "metadata": {
        "id": "oPigZArHe3d_"
      }
    },
    {
      "cell_type": "markdown",
      "source": [
        "## Dia 1: [Conheça o Google Colab e o Projeto Desta Dev Week](https://www.youtube.com/live/59XwC5e8U1k?feature=share)\n",
        "\n",
        "Vamos mergulhar no Google Colab, aprendendo como ele pode ser usado para automatizar tarefas cotidianas, principalmente através da manipulação de planilhas. Além disso, você aprenderá na prática o conceito do Net Promoter Score (NPS), uma métrica fundamental para entender a satisfação do cliente."
      ],
      "metadata": {
        "id": "VJ9ncXpVjIz9"
      }
    },
    {
      "cell_type": "code",
      "source": [
        "\"\"\"\n",
        "Este código baixa um arquivo CSV de feedbacks do Google Drive e carrega os dados em um DataFrame pandas.\n",
        "\n",
        "O arquivo é identificado por um ID único ('file_id'), que é extraído da URL do arquivo no Google Drive.\n",
        "A URL do arquivo no Google Drive tem o seguinte formato:\n",
        "https://drive.google.com/file/d/FILE_ID/view?usp=sharing\n",
        "\"\"\"\n",
        "\n",
        "# TODO: Baixar o arquivo CSV do Google Drive e carregar seus dados em um DataFrame pandas."
      ],
      "metadata": {
        "id": "NbC1PgziTHai"
      },
      "execution_count": null,
      "outputs": []
    },
    {
      "cell_type": "code",
      "execution_count": null,
      "metadata": {
        "id": "pQo2iXQLPjnR",
        "colab": {
          "base_uri": "https://localhost:8080/"
        },
        "outputId": "a55c4c06-d301-4cee-8d2a-52bd75a97cbe"
      },
      "outputs": [
        {
          "output_type": "stream",
          "name": "stdout",
          "text": [
            "40.0\n"
          ]
        }
      ],
      "source": [
        "\"\"\"\n",
        "Versão 1: Paradigma Imperativo.\n",
        "\n",
        "Este script lê um arquivo CSV contendo feedback de usuários, no qual cada feedback tem uma nota associada.\n",
        "O NPS é calculado como a diferença entre o percentual de promotores (nota >= 9) e detratores (nota <= 6), multiplicada por 100.\n",
        "A implementação é realizada de uma maneira imperativa, onde os comandos são executados sequencialmente.\n",
        "\"\"\"\n",
        "\n",
        "import pandas as pd\n",
        "\n",
        "dados = pd.read_csv('/content/feedbacks.csv', delimiter=';')\n",
        "\n",
        "notas = dados['nota']\n",
        "\n",
        "detratores = 0\n",
        "promotores = 0\n",
        "\n",
        "for nota in notas:\n",
        "  if nota >= 9:\n",
        "    promotores += 1\n",
        "  elif nota <= 6:\n",
        "    detratores += 1\n",
        "\n",
        "nps = (promotores - detratores) / len(notas) * 100\n",
        "print(nps)"
      ]
    },
    {
      "cell_type": "code",
      "source": [
        "\"\"\"\n",
        "Versão 2: Paradigma Funcional.\n",
        "\n",
        "Este script segue uma abordagem funcional para calcular o NPS a partir de feedback de usuários.\n",
        "A função \"calcular_nps\" é definida para encapsular a lógica do cálculo do NPS.\n",
        "Esta versão apresenta uma separação de responsabilidades mais clara do que a versão imperativa.\n",
        "\"\"\"\n",
        "\n",
        "import pandas as pd\n",
        "\n",
        "def calcular_nps(notas):\n",
        "  detratores = 0\n",
        "  promotores = 0\n",
        "\n",
        "  for nota in notas:\n",
        "    if nota >= 9:\n",
        "      promotores += 1\n",
        "    elif nota <= 6:\n",
        "      detratores += 1\n",
        "\n",
        "  nps = (promotores - detratores) / len(notas) * 100\n",
        "  return nps\n",
        "\n",
        "dados = pd.read_csv('/content/feedbacks.csv', delimiter=';')\n",
        "\n",
        "notas = dados['nota']\n",
        "\n",
        "print(calcular_nps(notas))"
      ],
      "metadata": {
        "id": "-qLL6LQ1qcAR",
        "colab": {
          "base_uri": "https://localhost:8080/"
        },
        "outputId": "d273c2e5-c09d-4063-9843-225252d7bc7d"
      },
      "execution_count": null,
      "outputs": [
        {
          "output_type": "stream",
          "name": "stdout",
          "text": [
            "40.0\n"
          ]
        }
      ]
    },
    {
      "cell_type": "code",
      "source": [
        "\"\"\"\n",
        "Versão 3: Paradigma Orientado a Objetos (POO).\n",
        "\n",
        "Este script adota uma abordagem Orientada a Objetos (OO) para calcular o NPS a partir de feedback de usuários.\n",
        "Duas classes são definidas, onde:\n",
        "- Feedback representa um único feedback de usuário;\n",
        "- AnalisadorFeedback é usado para calcular o NPS a partir de uma lista de Feedbacks.\n",
        "A POO fornece uma abstração mais clara dos dados e comportamentos envolvidos no cálculo do NPS.\n",
        "Desta forma, nossa solução estará preparada para as evoluções do nosso projeto.\n",
        "\"\"\"\n",
        "\n",
        "import pandas as pd\n",
        "\n",
        "class Feedback:\n",
        "  def __init__(self, nota, comentario):\n",
        "    self.nota = nota\n",
        "    self.comentario = comentario\n",
        "\n",
        "class AnalisadorFeedback:\n",
        "  def __init__(self, feedbacks):\n",
        "    self.feedbacks = feedbacks\n",
        "\n",
        "  def calcular_nps(self):\n",
        "    detratores = sum([1 for feedback in self.feedbacks if feedback.nota <= 6])\n",
        "    promotores = sum([1 for feedback in self.feedbacks if feedback.nota >= 9])\n",
        "\n",
        "    return (promotores - detratores) / len(self.feedbacks) * 100\n",
        "\n",
        "dados = pd.read_csv('/content/feedbacks.csv', delimiter=';')\n",
        "\n",
        "feedbacks = [Feedback(linha['nota'], linha['comentario'])  for i, linha in dados.iterrows()]\n",
        "\n",
        "analisador = AnalisadorFeedback(feedbacks)\n",
        "nps = analisador.calcular_nps()\n",
        "\n",
        "print(nps)"
      ],
      "metadata": {
        "id": "Rzhk-sOXrwJb",
        "colab": {
          "base_uri": "https://localhost:8080/"
        },
        "outputId": "0fd1139e-7e1f-4f69-c0f2-077a3e02d3c5"
      },
      "execution_count": null,
      "outputs": [
        {
          "output_type": "stream",
          "name": "stdout",
          "text": [
            "40.0\n"
          ]
        }
      ]
    },
    {
      "cell_type": "markdown",
      "source": [
        "## Dia 2: Desvendando o Poder dos Seus Dados com Python\n",
        "\n",
        "No segundo dia, vamos conectar nosso Google Colab ao Google Drive, extrair dados do NPS e aplicar as técnicas de ETL (Extração, Transformação e Carregamento) nesses dados. Com a ajuda da biblioteca matplotlib, criaremos gráficos para visualizar e compreender o nível de satisfação dos nossos usuários."
      ],
      "metadata": {
        "id": "ekkcgs-nujuG"
      }
    },
    {
      "cell_type": "markdown",
      "source": [
        "## Dia 3: Decifrando Sentimentos com Inteligência Artificial (IA)\n",
        "\n",
        "No último dia, vamos utilizar as técnicas de Processamento de Linguagem Natural (PLN) para analisar os sentimentos expressos nos comentários associados às notas de NPS. Dessa forma, teremos uma perspectiva qualitativa que complementa nossos dados quantitativos."
      ],
      "metadata": {
        "id": "jHl6lLS1usU1"
      }
    }
  ]
}